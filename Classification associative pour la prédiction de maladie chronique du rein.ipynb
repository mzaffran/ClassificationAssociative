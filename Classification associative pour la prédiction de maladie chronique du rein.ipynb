{
 "cells": [
  {
   "cell_type": "code",
   "execution_count": 11,
   "metadata": {
    "kernel": "Python3"
   },
   "outputs": [],
   "source": [
    "%use Python3 -c white\n",
    "import matplotlib.pyplot as plt"
   ]
  },
  {
   "cell_type": "markdown",
   "metadata": {
    "kernel": "Python3"
   },
   "source": [
    "## Table of contents <a name=\"toc\"></a>\n",
    "\n",
    "1. [Introduction](#introduction)\n",
    "2. [Résultat principal](#résultat)\n",
    "    1. [Binarisation](#binarisation)\n",
    "    2. [Choix des caractéristiques](#choix)\n",
    "    3. [Séparation train/test](#split)\n",
    "    4. [Complexité](#complexité)\n",
    "    5. [Etude des règles obtenues](#règles)\n",
    "    6. [Performances](#score)\n",
    "3. [Influence des caractéristiques](#binarisation_influence)\n",
    "4. [Optimisation bi-objectif](#biobjectif)\n",
    "5. [Comparaison à des méthodes de machine learning usuelles](#compML)\n",
    "6. [Influence de la séparation train/test](#compSplit)\n",
    "7. [Méthode ORC appliquée à du multi-classes](#multiclasses)"
   ]
  },
  {
   "cell_type": "markdown",
   "metadata": {
    "kernel": "Python3"
   },
   "source": [
    "## Introduction <a name=\"introduction\"></a>\n",
    "\n",
    "Nous cherchons à prédire si un patient a une maladie rénale chronique à partir de différentes données et des résultats d'analyses médicales.\n",
    "\n",
    "Nous avons à notre disposition les données de 189 patients. Chacun est décrit par 24 caractéristiques.\n",
    "\n",
    "L'objectif principal est de mettre en oeuvre un algorithme ORC (règles ordonnées pour la classification) pour réaliser cette prédiction."
   ]
  },
  {
   "cell_type": "code",
   "execution_count": 2,
   "metadata": {
    "kernel": "Python3",
    "scrolled": true
   },
   "outputs": [
    {
     "data": {
      "text/html": [
       "<div>\n",
       "<style scoped>\n",
       "    .dataframe tbody tr th:only-of-type {\n",
       "        vertical-align: middle;\n",
       "    }\n",
       "\n",
       "    .dataframe tbody tr th {\n",
       "        vertical-align: top;\n",
       "    }\n",
       "\n",
       "    .dataframe thead th {\n",
       "        text-align: right;\n",
       "    }\n",
       "</style>\n",
       "<table border=\"1\" class=\"dataframe\">\n",
       "  <thead>\n",
       "    <tr style=\"text-align: right;\">\n",
       "      <th></th>\n",
       "      <th>age</th>\n",
       "      <th>bp</th>\n",
       "      <th>sg</th>\n",
       "      <th>al</th>\n",
       "      <th>su</th>\n",
       "      <th>pc</th>\n",
       "      <th>pcc</th>\n",
       "      <th>ba</th>\n",
       "      <th>bgr</th>\n",
       "      <th>bu</th>\n",
       "      <th>...</th>\n",
       "      <th>pcv</th>\n",
       "      <th>wbcc</th>\n",
       "      <th>rbcc</th>\n",
       "      <th>htn</th>\n",
       "      <th>dm</th>\n",
       "      <th>cad</th>\n",
       "      <th>appet</th>\n",
       "      <th>pe</th>\n",
       "      <th>ane</th>\n",
       "      <th>class</th>\n",
       "    </tr>\n",
       "  </thead>\n",
       "  <tbody>\n",
       "    <tr>\n",
       "      <td>0</td>\n",
       "      <td>48</td>\n",
       "      <td>70</td>\n",
       "      <td>1.005</td>\n",
       "      <td>4</td>\n",
       "      <td>0</td>\n",
       "      <td>abnormal</td>\n",
       "      <td>present</td>\n",
       "      <td>notpresent</td>\n",
       "      <td>117</td>\n",
       "      <td>56</td>\n",
       "      <td>...</td>\n",
       "      <td>32</td>\n",
       "      <td>6700</td>\n",
       "      <td>3.9</td>\n",
       "      <td>yes</td>\n",
       "      <td>no</td>\n",
       "      <td>no</td>\n",
       "      <td>poor</td>\n",
       "      <td>yes</td>\n",
       "      <td>yes</td>\n",
       "      <td>ckd</td>\n",
       "    </tr>\n",
       "    <tr>\n",
       "      <td>1</td>\n",
       "      <td>53</td>\n",
       "      <td>90</td>\n",
       "      <td>1.020</td>\n",
       "      <td>2</td>\n",
       "      <td>0</td>\n",
       "      <td>abnormal</td>\n",
       "      <td>present</td>\n",
       "      <td>notpresent</td>\n",
       "      <td>70</td>\n",
       "      <td>107</td>\n",
       "      <td>...</td>\n",
       "      <td>29</td>\n",
       "      <td>12100</td>\n",
       "      <td>3.7</td>\n",
       "      <td>yes</td>\n",
       "      <td>yes</td>\n",
       "      <td>no</td>\n",
       "      <td>poor</td>\n",
       "      <td>no</td>\n",
       "      <td>yes</td>\n",
       "      <td>ckd</td>\n",
       "    </tr>\n",
       "    <tr>\n",
       "      <td>2</td>\n",
       "      <td>63</td>\n",
       "      <td>70</td>\n",
       "      <td>1.010</td>\n",
       "      <td>3</td>\n",
       "      <td>0</td>\n",
       "      <td>abnormal</td>\n",
       "      <td>present</td>\n",
       "      <td>notpresent</td>\n",
       "      <td>380</td>\n",
       "      <td>60</td>\n",
       "      <td>...</td>\n",
       "      <td>32</td>\n",
       "      <td>4500</td>\n",
       "      <td>3.8</td>\n",
       "      <td>yes</td>\n",
       "      <td>yes</td>\n",
       "      <td>no</td>\n",
       "      <td>poor</td>\n",
       "      <td>yes</td>\n",
       "      <td>no</td>\n",
       "      <td>ckd</td>\n",
       "    </tr>\n",
       "    <tr>\n",
       "      <td>3</td>\n",
       "      <td>68</td>\n",
       "      <td>70</td>\n",
       "      <td>1.015</td>\n",
       "      <td>3</td>\n",
       "      <td>1</td>\n",
       "      <td>normal</td>\n",
       "      <td>present</td>\n",
       "      <td>notpresent</td>\n",
       "      <td>208</td>\n",
       "      <td>72</td>\n",
       "      <td>...</td>\n",
       "      <td>28</td>\n",
       "      <td>12200</td>\n",
       "      <td>3.4</td>\n",
       "      <td>yes</td>\n",
       "      <td>yes</td>\n",
       "      <td>yes</td>\n",
       "      <td>poor</td>\n",
       "      <td>yes</td>\n",
       "      <td>no</td>\n",
       "      <td>ckd</td>\n",
       "    </tr>\n",
       "    <tr>\n",
       "      <td>4</td>\n",
       "      <td>68</td>\n",
       "      <td>80</td>\n",
       "      <td>1.010</td>\n",
       "      <td>3</td>\n",
       "      <td>2</td>\n",
       "      <td>abnormal</td>\n",
       "      <td>present</td>\n",
       "      <td>present</td>\n",
       "      <td>157</td>\n",
       "      <td>90</td>\n",
       "      <td>...</td>\n",
       "      <td>16</td>\n",
       "      <td>11000</td>\n",
       "      <td>2.6</td>\n",
       "      <td>yes</td>\n",
       "      <td>yes</td>\n",
       "      <td>yes</td>\n",
       "      <td>poor</td>\n",
       "      <td>yes</td>\n",
       "      <td>no</td>\n",
       "      <td>ckd</td>\n",
       "    </tr>\n",
       "  </tbody>\n",
       "</table>\n",
       "<p>5 rows × 24 columns</p>\n",
       "</div>"
      ],
      "text/plain": [
       "   age  bp     sg  al  su        pc      pcc          ba  bgr   bu  ...  pcv  \\\n",
       "0   48  70  1.005   4   0  abnormal  present  notpresent  117   56  ...   32   \n",
       "1   53  90  1.020   2   0  abnormal  present  notpresent   70  107  ...   29   \n",
       "2   63  70  1.010   3   0  abnormal  present  notpresent  380   60  ...   32   \n",
       "3   68  70  1.015   3   1    normal  present  notpresent  208   72  ...   28   \n",
       "4   68  80  1.010   3   2  abnormal  present     present  157   90  ...   16   \n",
       "\n",
       "    wbcc  rbcc  htn   dm  cad  appet   pe  ane class  \n",
       "0   6700   3.9  yes   no   no   poor  yes  yes   ckd  \n",
       "1  12100   3.7  yes  yes   no   poor   no  yes   ckd  \n",
       "2   4500   3.8  yes  yes   no   poor  yes   no   ckd  \n",
       "3  12200   3.4  yes  yes  yes   poor  yes   no   ckd  \n",
       "4  11000   2.6  yes  yes  yes   poor  yes   no   ckd  \n",
       "\n",
       "[5 rows x 24 columns]"
      ]
     },
     "execution_count": 2,
     "metadata": {},
     "output_type": "execute_result"
    }
   ],
   "source": [
    "import pandas as pd\n",
    "\n",
    "data = pd.read_csv('data/kidney.csv')\n",
    "\n",
    "data.head(5)"
   ]
  },
  {
   "cell_type": "markdown",
   "metadata": {
    "kernel": "Python3"
   },
   "source": [
    "## Résultat principal <a name=\"résultat\"></a>"
   ]
  },
  {
   "cell_type": "markdown",
   "metadata": {
    "kernel": "Python3"
   },
   "source": [
    "### Binarisation <a name=\"binarisation\"></a>\n",
    "\n",
    "La méthode ORC fonctionne avec des données binaires. Nous devons donc binariser notre jeu de données.\n",
    "\n",
    "Toutes les caractéristiques qui ne peuvent prendre que deux valeurs possibles sont transformées en une colonne à valeurs égales à 1 ou 0. Par exemple la colonne \"ane\" qui indique si le patient a une anémie ou non peut prendre la valeur \"yes\" ou \"no\". Ainsi nous faisons correspondre \"no\" à 0 et \"yes\" à 1.\n",
    "\n",
    "Certaines caractéristiques qui prennent \"x\" valeurs discrètes sont transformées en x colonnes. Une colonne est associée à une valeur et ne prend des 1 que pour les patients qui ont cette valeur là de la caractéristique.\n",
    "\n",
    "Pour binariser les autres caractéristiques (celles qui prennent des valeurs réelles), nous traçons l'histogramme de cette caractéristique et nous nous basons sur ce graphique pour le choix des intervalles de valeurs que nous allons considérer et pour lesquels nous allons créer une nouvelle colonne binanire.\n",
    "\n",
    "\n",
    "#### Exemple\n",
    "Dans les histogrammes suivants, les lignes rouges verticales indiquent la séparation que nous avons choisi de prendre en compte dans la binarisation."
   ]
  },
  {
   "cell_type": "code",
   "execution_count": 3,
   "metadata": {
    "kernel": "Python3",
    "scrolled": false
   },
   "outputs": [
    {
     "data": {
      "image/png": "[encoded data removed]",
      "text/plain": [
       "<Figure size 1296x288 with 2 Axes>"
      ]
     },
     "metadata": {
      "needs_background": "light"
     },
     "output_type": "display_data"
    },
    {
     "data": {
      "image/png": "[encoded data removed]",
      "text/plain": [
       "<Figure size 1296x288 with 2 Axes>"
      ]
     },
     "metadata": {
      "needs_background": "light"
     },
     "output_type": "display_data"
    },
    {
     "data": {
      "image/png": "[encoded data removed]",
      "text/plain": [
       "<Figure size 648x288 with 1 Axes>"
      ]
     },
     "metadata": {
      "needs_background": "light"
     },
     "output_type": "display_data"
    }
   ],
   "source": [
    "plt.figure(figsize=(18,4))\n",
    "\n",
    "plt.subplot(121)\n",
    "plt.hist(data['sc'], bins=30)\n",
    "plt.axvline(1.25,0,70, color='r', alpha=0.7)\n",
    "plt.title('serum creatinine (sc)')\n",
    "\n",
    "plt.subplot(122)\n",
    "plt.hist(data['pcv'], bins=30)\n",
    "plt.axvline(40,0,20, color='r', alpha=0.7)\n",
    "plt.title('packed cell volume (pcv)')\n",
    "plt.show()\n",
    "\n",
    "plt.figure(figsize=(18,4))\n",
    "\n",
    "plt.subplot(121)\n",
    "plt.hist(data['hemo'], bins=20)\n",
    "plt.axvline(13,0,16, color='r', alpha=0.7)\n",
    "plt.title('hemoglobin (hemo)')\n",
    "\n",
    "plt.subplot(122)\n",
    "plt.hist(data['sg'], bins=10,align='right')\n",
    "plt.axvline(1.02,0,60, color='r', alpha=0.7)\n",
    "plt.title('specific gravity (sg)')\n",
    "plt.show()\n",
    "\n",
    "plt.figure(figsize=(9,4))\n",
    "plt.hist(data['rbcc'], bins=30,align='right')\n",
    "plt.axvline(4.5,0,20, color='r', alpha=0.7)\n",
    "plt.title('red blood cells (rbcc)')\n",
    "plt.show()"
   ]
  },
  {
   "cell_type": "markdown",
   "metadata": {
    "kernel": "Python3"
   },
   "source": [
    "#### En pratique\n",
    " \n",
    "Si un ensemble de valeurs ont des fréquences similaires alors on les mets dans une même catégorie.\n",
    "\n",
    "Nous séparons la colonne sc (serum creatinine) en deux colonnes sc0-1.25 et sc1.25-Inf. Si un patient a une valeur de serum creatinine compris entre 0 et 1.25 (exclus) il aura 1 dans la colonne sc0-1.25 et 0 dans la colonne sc1.25-Inf (et inversement)."
   ]
  },
  {
   "cell_type": "markdown",
   "metadata": {
    "kernel": "Python3"
   },
   "source": [
    "### Choix des caractéristiques <a name=\"choix\"></a>\n",
    "\n",
    "Pour commencer, nous avons regardé les corrélations entre les différentes variables. Comme nous le remarquons sur le graphique ci-dessous, les plus grosses corrélations à la maladie sont principalement sg (specific gravity), hemo (hemoglobin), pcv (packed cell volume), rbcc (red blood cells), htn (hypertension), dm (diabetes mellitus) et al (albumin).  \n",
    "\n",
    "<img src=\"img/corr_plot.png\" width=\"500\"/>\n",
    "\n",
    "Nous avons également entraîné un modèle de forêt aléatoire et analysé les importances des variables dans cette forêt (voir figure ci-dessous). Nous trouvons cette fois-ci 4 variables qui se détachent : sg, pcv et hemo (présentes dans les variables les  plus corrélées à la classe) mais également sc (serum creatinine). Les variables suivantes sont rbcc, htn, dm et al qui étaient les plus corrélées également, selon les deux indicateurs d'importance.\n",
    "\n",
    "<img src=\"img/var_importance.png\" width=\"500\"/>\n",
    "\n",
    "Ainsi, pour une première approche, nous avons utilisé ces 8 variables comme caractéristiques. Pour les binariser, nous avons analysé les histogrammes des variables continues sur tout le dataset, sur le dataset restreint aux patients malades et sur le dataset restreint aux patients sains. La comparaison des 3 histogrammes nous permet éventuellement d'identifier des seuils pertinents de binarisation. Par exemple, pour sg :"
   ]
  },
  {
   "cell_type": "code",
   "execution_count": 4,
   "metadata": {
    "kernel": "Python3"
   },
   "outputs": [
    {
     "data": {
      "image/png": "[encoded data removed]",
      "text/plain": [
       "<Figure size 1080x504 with 3 Axes>"
      ]
     },
     "metadata": {
      "needs_background": "light"
     },
     "output_type": "display_data"
    }
   ],
   "source": [
    "data_ill = data[data['class'] == 'ckd']\n",
    "data_healthy = data[data['class'] == 'notckd']\n",
    "\n",
    "fig, (ax1, ax2, ax3) = plt.subplots(1,3, figsize=(15,7))\n",
    "fig.suptitle('SG histogram')\n",
    "ax1.hist(data['sg'], bins=20)\n",
    "ax1.set_title('All')\n",
    "ax2.hist(data_ill['sg'], bins=20)\n",
    "ax2.set_title('Ill')\n",
    "ax3.hist(data_healthy['sg'], bins=20)\n",
    "ax3.set_title('Healthy')\n",
    "plt.show()"
   ]
  },
  {
   "cell_type": "markdown",
   "metadata": {
    "kernel": "Python3"
   },
   "source": [
    "Nous remarquons que tous les patients sains ont un sg de 1.02 ou de 1.025 mais jamais moins, alors que parmi les patients malades, la majeure partie a moins de 1.02 de sg. Ainsi, nous binarisons sg entre 0 et 1.02 exclus, et 1.02 et l'infini (soit ici 1.025).\n",
    "\n",
    "Nous avons entraîné plusieurs fois l'ORC avec ces caractéristiques et analysé les règles obtenues à chaque fois. Il s'est avéré que plusieurs caractéristiques n'étaient jamais utiles et nous avons donc décidé de les supprimer. Finalement, notre set final de caractéristique était donc :\n",
    "\n",
    "- sg0-1.02 et sg1.02-Inf\n",
    "- pcv0-40 et pcv40-Inf\n",
    "- hemo0-13 et hemo13-Inf\n",
    "- sc0-1.25 et sc1.25-Inf\n",
    "- rbcc0-4.5 et rbcc4.5-Inf\n",
    "- dm qui vaut 1 si il y a présence de dm"
   ]
  },
  {
   "cell_type": "markdown",
   "metadata": {
    "kernel": "Python3"
   },
   "source": [
    "### Séparation train/test <a name=\"split\"></a>\n",
    "\n",
    "Le jeu de données à notre disposition est assez petit et surtout, la classe malade représentant bien moins de la moitié des données:"
   ]
  },
  {
   "cell_type": "code",
   "execution_count": 14,
   "metadata": {
    "kernel": "Python3"
   },
   "outputs": [
    {
     "name": "stdout",
     "output_type": "stream",
     "text": [
      "Proportion de patients malades : 39.15343915343915 %\n"
     ]
    }
   ],
   "source": [
    "print(\"Proportion de patients malades :\", len(data_ill)/len(data)*100, \"%\")"
   ]
  },
  {
   "cell_type": "markdown",
   "metadata": {
    "kernel": "Python3"
   },
   "source": [
    "Nous avons donc décidé de modifier la façon dont nous séparons notre jeu en échantillons d'apprentissage et de test, afin de forcer ceux-ci à contenir en proportions équivalentes à celles du dataset d'origine les patients sains et malades. Ceci s'effectue en fixant la variable booléenne ```respectProp``` à ```true``` dans le fichier ```main.jl```. Sinon, il sépare comme initialement de manière aléatoire. "
   ]
  },
  {
   "cell_type": "markdown",
   "metadata": {
    "kernel": "Python3"
   },
   "source": [
    "### Complexité <a name=\"complexité\"></a>"
   ]
  },
  {
   "cell_type": "markdown",
   "metadata": {
    "kernel": "Python3"
   },
   "source": [
    "### Etude des règles obtenues <a name=\"règles\"></a>"
   ]
  },
  {
   "cell_type": "markdown",
   "metadata": {
    "kernel": "Python3"
   },
   "source": [
    "### Performances <a name=\"score\"></a>"
   ]
  },
  {
   "cell_type": "code",
   "execution_count": 9,
   "metadata": {
    "kernel": "Julia 1.3.1"
   },
   "outputs": [
    {
     "name": "stdout",
     "output_type": "stream",
     "text": [
      "=== Warning: Existing features found, features creation skipped\n",
      "=== Loading existing features\n",
      "=== ... 126 individuals in the train set\n",
      "=== ... 63 individuals in the test set\n",
      "=== ... 13 features\n",
      "=== Warning: Existing rules found, rules creation skipped\n",
      "=== Loading the existing rules\n",
      "=== ... 77 rules obtained\n",
      "=== Warning: Sorted rules found, sorting of the rules skipped\n",
      "=== Loading the sorting rules\n",
      "=== Results\n",
      "-- Train results\n",
      "Class\tPrec.\tRecall\tSize\n",
      "0\t1.0\t1.0\t65\n",
      "1\t1.0\t1.0\t61\n",
      "\n",
      "\n",
      "avg\t1.0\t1.0\n",
      "w. avg\t1.0\t1.0\n",
      "\n",
      "-- Test results\n",
      "Class\tPrec.\tRecall\tSize\n",
      "0\t1.0\t1.0\t50\n",
      "1\t1.0\t1.0\t13\n",
      "\n",
      "\n",
      "avg\t1.0\t1.0\n",
      "w. avg\t1.0\t1.0\n",
      "\n"
     ]
    }
   ],
   "source": [
    "include(\"src/main.jl\")"
   ]
  },
  {
   "cell_type": "markdown",
   "metadata": {
    "kernel": "Julia 1.3.1"
   },
   "source": [
    "Sur cet exemple nous constatons que la méthode ORC avec ces caractéristiques est très performante puisqu'elle obtient les précisions et rappels maxima pour toutes les classes à la fois sur le train et sur le test. \n",
    "\n",
    "Comme il peut y avoir une certaine variabilité dûe aux observations présentes ou non dans le train, nous avons effectué 10 éxecutions distinctes. Les résultats obtenus sont les suivants :"
   ]
  },
  {
   "cell_type": "markdown",
   "metadata": {
    "kernel": "Julia 1.3.1"
   },
   "source": [
    "Retour au [sommaire](#toc)."
   ]
  },
  {
   "cell_type": "markdown",
   "metadata": {
    "kernel": "Python3"
   },
   "source": [
    "## Influence des caractéristiques <a name=\"binarisation_influence\"></a>\n",
    "\n",
    "Nous allons comparer l'ajout et la suppression d'une caractéristique sur les performances du classifieur."
   ]
  },
  {
   "cell_type": "markdown",
   "metadata": {
    "kernel": "Julia 1.3.1"
   },
   "source": [
    "Retour au [sommaire](#toc)."
   ]
  },
  {
   "cell_type": "markdown",
   "metadata": {
    "kernel": "Julia 1.3.1"
   },
   "source": [
    "## Optimisation bi-objectif <a name=\"biobjectif\"></a>\n",
    "\n",
    "Nous allons résoudre le problème de génération de règle par l'optimisation bi-objectif où nous minimisons la couverture de la règle et maximisons le nombre d'éléments d'une certaine classe pour lesquels la règle s'applique. Nous récupérons donc pour chaque classe un ensemble de règles non dominées.\n",
    "\n",
    "### Observations\n",
    "\n",
    "Cette méthode est beaucoup plus rapide même si nous binarisons plus de caractéristiques. Et ceci donne peu de règles à appliquer."
   ]
  },
  {
   "cell_type": "markdown",
   "metadata": {
    "kernel": "Julia 1.3.1"
   },
   "source": [
    "Retour au [sommaire](#toc)."
   ]
  },
  {
   "cell_type": "markdown",
   "metadata": {
    "kernel": "Julia 1.3.1"
   },
   "source": [
    "## Comparaison à des méthodes de machine learning usuelles <a name=\"compML\"></a>\n",
    "\n",
    "Nous avons testés des méthodes usuelles en machine learning sur ce problème : arbre CART (CART), forêt aléatoire (RF), Support Vector Classifier (SVC), Adaptive Boosting (AdaBoost).\n",
    "\n",
    "Nous avons comparé ces différentes méthodes avec le classifieur ORC et ceci sur 10 combinaisons différentes train/test (les mêmes que pour la comparaison avec le bi-objectif). Les train/test sont les mêmes pour toutes les méthodes à chaque exécution, ce qui veut dire que les méthodes ne voient que les caractéristiques telles que nous les avons binarisées, afin de comparer sur les mêmes échantillons du fait de la variabilité dûe au faible nombre de données. Les résultats obtenus sont les suivants :\n",
    "\n",
    "__INSERER TABLEAUX__\n",
    "\n",
    "Nous remarquons que les méthodes de machine learning usuelles les plus interprétables (arbre CART et forêt aléatoire) sont moins performantes qu'ORC, même si bien plus rapide. SVC quant à lui est extrêmement rapide et hyper performant, mais très peu interprétable ! Nous retrouvons le compromis classique performance/interprétabilité, et nous constatons bien que nous avons amélioré le pouvoir prédictif de l'arbre CART en conservant le même niveau d'interprétabilité. \n",
    "\n",
    "Petite précision : si nous utilisons tout le jeu de donnée brut, alors nous retrouvons de meilleures performances avec la forêt aléatoire. Elle ne peut en effet pas tirer profit de si peu de variables. \n",
    "\n",
    "__INSERER TABLEAU__"
   ]
  },
  {
   "cell_type": "markdown",
   "metadata": {
    "kernel": "Julia 1.3.1"
   },
   "source": [
    "Retour au [sommaire](#toc)."
   ]
  },
  {
   "cell_type": "markdown",
   "metadata": {
    "kernel": "Julia 1.3.1"
   },
   "source": [
    "## Méthode ORC appliquée à du multi-classes <a name=\"multiclasses\"></a>\n",
    "\n",
    "Le classifieur ORC s'applique si on s'intéresse à faire du multi-classes. Ceci vient du fait que pour chaque classe nous pouvons générer des règles qui s'appliquent à cette classe là. En effet, la génération de règles s'effectue classe après classe, et rien n'impose la binarité de la classe : pour chaque classe possible, nous générons des règles correspondantes. \n",
    "\n",
    "Nous avons testé ceci sur la prédiction de la valeur de sg (specific gravity) qui contient 5 valeurs différentes possibles. Pour plus de lisibilité, nous avons modifié ces valeurs possibles de sg :\n",
    "\n",
    "- 1.005 est représenté par la classe 0 ;\n",
    "- 1.01 est représenté par la classe 1 ;\n",
    "- 1.015 est représenté par la classe 2 ;\n",
    "- 1.02 est représenté par la classe 3 ;\n",
    "- 1.025 est représenté par la classe 4.\n",
    "\n",
    "La création du nouveau dataset est effectuée dans le fichier ```create_multiclass.py```."
   ]
  },
  {
   "cell_type": "code",
   "execution_count": 10,
   "metadata": {
    "kernel": "Julia 1.3.1"
   },
   "outputs": [
    {
     "name": "stdout",
     "output_type": "stream",
     "text": [
      "=== Warning: Existing features found, features creation skipped\n",
      "=== Loading existing features\n",
      "=== ... 126 individuals in the train set\n",
      "=== ... 63 individuals in the test set\n",
      "=== ... 20 features\n",
      "=== Warning: Existing rules found, rules creation skipped\n",
      "=== Loading the existing rules\n",
      "=== ... 39 rules obtained\n",
      "=== Warning: Sorted rules found, sorting of the rules skipped\n",
      "=== Loading the sorting rules\n",
      "=== Results\n",
      "-- Train results\n",
      "Class\tPrec.\tRecall\tSize\n",
      "0\t0.5\t1.0\t2\n",
      "1\t0.85\t0.55\t20\n",
      "2\t0.53\t0.89\t18\n",
      "3\t0.61\t0.61\t44\n",
      "4\t0.6\t0.5\t42\n",
      "\n",
      "\n",
      "avg\t0.62\t0.71\n",
      "w. avg\t0.63\t0.61\n",
      "\n",
      "-- Test results\n",
      "Class\tPrec.\tRecall\tSize\n",
      "0\tNaN\t0.0\t1\n",
      "1\t0.6\t0.5\t12\n",
      "2\t0.33\t0.33\t9\n",
      "3\t0.45\t0.47\t19\n",
      "4\t0.46\t0.5\t22\n",
      "\n",
      "\n",
      "avg\tNaN\t0.36\n",
      "w. avg\tNaN\t0.46\n",
      "\n"
     ]
    }
   ],
   "source": [
    "include(\"src/mainMultiClass.jl\")"
   ]
  },
  {
   "cell_type": "markdown",
   "metadata": {
    "kernel": "Julia 1.3.1"
   },
   "source": [
    "Nota bene : nous avons ici créé un deuxième main spécifique au multiclasse simplement pour pouvoir afficher les résultats facilement dans le notebook. En pratique, ce main est inutile et il suffit d'utiliser le main principal en changeant ```dataSet = \"kidney\"``` par ```dataSet = \"multiclass\"```."
   ]
  },
  {
   "cell_type": "markdown",
   "metadata": {
    "kernel": "Julia 1.3.1"
   },
   "source": [
    "Nous avons donc adapté la fonction ```showStatistics``` pour un  nombre quelconque de classes. Les définitions de la précision et du rappel s'adaptent sans ambiguité à du multiclasse."
   ]
  },
  {
   "cell_type": "markdown",
   "metadata": {
    "kernel": "Julia 1.3.1"
   },
   "source": [
    "Retour au [sommaire](#toc)."
   ]
  },
  {
   "cell_type": "code",
   "execution_count": null,
   "metadata": {
    "kernel": "Julia 1.3.1"
   },
   "outputs": [],
   "source": []
  }
 ],
 "metadata": {
  "celltoolbar": "Format de la Cellule Texte Brut",
  "kernelspec": {
   "display_name": "SoS",
   "language": "sos",
   "name": "sos"
  },
  "language_info": {
   "codemirror_mode": "sos",
   "file_extension": ".sos",
   "mimetype": "text/x-sos",
   "name": "sos",
   "nbconvert_exporter": "sos_notebook.converter.SoS_Exporter",
   "pygments_lexer": "sos"
  },
  "sos": {
   "kernels": [
    [
     "Julia 1.3.1",
     "julia-1.3",
     "julia",
     "",
     ""
    ],
    [
     "Python3",
     "python3",
     "Python3",
     "white",
     {
      "name": "ipython",
      "version": 3
     }
    ],
    [
     "R",
     "ir",
     "R",
     "#DCDCDA",
     ""
    ]
   ],
   "panel": {
    "displayed": true,
    "height": 0
   },
   "version": "0.21.7"
  }
 },
 "nbformat": 4,
 "nbformat_minor": 2
}
