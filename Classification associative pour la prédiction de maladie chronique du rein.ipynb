{
 "cells": [
  {
   "cell_type": "code",
   "execution_count": 4,
   "metadata": {
    "kernel": "Python3"
   },
   "outputs": [],
   "source": [
    "%use Python3 -c white\n",
    "import matplotlib.pyplot as plt"
   ]
  },
  {
   "cell_type": "markdown",
   "metadata": {
    "kernel": "Python3"
   },
   "source": [
    "## Table of contents\n",
    "\n",
    "1. [Introduction](#introduction)\n",
    "2. [Résultat principal](#résultat)\n",
    "    1. [Binarisation](#binarisation)\n",
    "    2. [Choix des caractéristiques](#choix)\n",
    "    3. [Complexité](#complexité)\n",
    "    4. [Etude des règles obtenues](#règles)\n",
    "    5. [Performances](#score)\n",
    "3. [Influence des caractéristiques](#binarisation_influence)\n",
    "4. [Optimisation bi-objectif](#biobjectif)\n",
    "5. [Comparaison à des méthodes de machine learning usuelles](#compML)\n",
    "6. [Méthode ORC appliquée à du multi-classes](#multiclasses)"
   ]
  },
  {
   "cell_type": "markdown",
   "metadata": {
    "kernel": "Python3"
   },
   "source": [
    "## Introduction <a name=\"introduction\"></a>\n",
    "\n",
    "On cherche à prédire si un patient à une maladie rénale chronique à partir de différentes données et des résultats d'analyses médicales.\n",
    "\n",
    "Nous avons à notre disposition les données de 189 patients. Chacun est décrit par 24 caractéristiques."
   ]
  },
  {
   "cell_type": "code",
   "execution_count": 14,
   "metadata": {
    "kernel": "Python3",
    "scrolled": true
   },
   "outputs": [
    {
     "data": {
      "text/html": [
       "<div>\n",
       "<style scoped>\n",
       "    .dataframe tbody tr th:only-of-type {\n",
       "        vertical-align: middle;\n",
       "    }\n",
       "\n",
       "    .dataframe tbody tr th {\n",
       "        vertical-align: top;\n",
       "    }\n",
       "\n",
       "    .dataframe thead th {\n",
       "        text-align: right;\n",
       "    }\n",
       "</style>\n",
       "<table border=\"1\" class=\"dataframe\">\n",
       "  <thead>\n",
       "    <tr style=\"text-align: right;\">\n",
       "      <th></th>\n",
       "      <th>age</th>\n",
       "      <th>bp</th>\n",
       "      <th>sg</th>\n",
       "      <th>al</th>\n",
       "      <th>su</th>\n",
       "      <th>pc</th>\n",
       "      <th>pcc</th>\n",
       "      <th>ba</th>\n",
       "      <th>bgr</th>\n",
       "      <th>bu</th>\n",
       "      <th>...</th>\n",
       "      <th>pcv</th>\n",
       "      <th>wbcc</th>\n",
       "      <th>rbcc</th>\n",
       "      <th>htn</th>\n",
       "      <th>dm</th>\n",
       "      <th>cad</th>\n",
       "      <th>appet</th>\n",
       "      <th>pe</th>\n",
       "      <th>ane</th>\n",
       "      <th>class</th>\n",
       "    </tr>\n",
       "  </thead>\n",
       "  <tbody>\n",
       "    <tr>\n",
       "      <th>0</th>\n",
       "      <td>48</td>\n",
       "      <td>70</td>\n",
       "      <td>1.005</td>\n",
       "      <td>4</td>\n",
       "      <td>0</td>\n",
       "      <td>abnormal</td>\n",
       "      <td>present</td>\n",
       "      <td>notpresent</td>\n",
       "      <td>117</td>\n",
       "      <td>56</td>\n",
       "      <td>...</td>\n",
       "      <td>32</td>\n",
       "      <td>6700</td>\n",
       "      <td>3.9</td>\n",
       "      <td>yes</td>\n",
       "      <td>no</td>\n",
       "      <td>no</td>\n",
       "      <td>poor</td>\n",
       "      <td>yes</td>\n",
       "      <td>yes</td>\n",
       "      <td>ckd</td>\n",
       "    </tr>\n",
       "    <tr>\n",
       "      <th>1</th>\n",
       "      <td>53</td>\n",
       "      <td>90</td>\n",
       "      <td>1.020</td>\n",
       "      <td>2</td>\n",
       "      <td>0</td>\n",
       "      <td>abnormal</td>\n",
       "      <td>present</td>\n",
       "      <td>notpresent</td>\n",
       "      <td>70</td>\n",
       "      <td>107</td>\n",
       "      <td>...</td>\n",
       "      <td>29</td>\n",
       "      <td>12100</td>\n",
       "      <td>3.7</td>\n",
       "      <td>yes</td>\n",
       "      <td>yes</td>\n",
       "      <td>no</td>\n",
       "      <td>poor</td>\n",
       "      <td>no</td>\n",
       "      <td>yes</td>\n",
       "      <td>ckd</td>\n",
       "    </tr>\n",
       "    <tr>\n",
       "      <th>2</th>\n",
       "      <td>63</td>\n",
       "      <td>70</td>\n",
       "      <td>1.010</td>\n",
       "      <td>3</td>\n",
       "      <td>0</td>\n",
       "      <td>abnormal</td>\n",
       "      <td>present</td>\n",
       "      <td>notpresent</td>\n",
       "      <td>380</td>\n",
       "      <td>60</td>\n",
       "      <td>...</td>\n",
       "      <td>32</td>\n",
       "      <td>4500</td>\n",
       "      <td>3.8</td>\n",
       "      <td>yes</td>\n",
       "      <td>yes</td>\n",
       "      <td>no</td>\n",
       "      <td>poor</td>\n",
       "      <td>yes</td>\n",
       "      <td>no</td>\n",
       "      <td>ckd</td>\n",
       "    </tr>\n",
       "    <tr>\n",
       "      <th>3</th>\n",
       "      <td>68</td>\n",
       "      <td>70</td>\n",
       "      <td>1.015</td>\n",
       "      <td>3</td>\n",
       "      <td>1</td>\n",
       "      <td>normal</td>\n",
       "      <td>present</td>\n",
       "      <td>notpresent</td>\n",
       "      <td>208</td>\n",
       "      <td>72</td>\n",
       "      <td>...</td>\n",
       "      <td>28</td>\n",
       "      <td>12200</td>\n",
       "      <td>3.4</td>\n",
       "      <td>yes</td>\n",
       "      <td>yes</td>\n",
       "      <td>yes</td>\n",
       "      <td>poor</td>\n",
       "      <td>yes</td>\n",
       "      <td>no</td>\n",
       "      <td>ckd</td>\n",
       "    </tr>\n",
       "    <tr>\n",
       "      <th>4</th>\n",
       "      <td>68</td>\n",
       "      <td>80</td>\n",
       "      <td>1.010</td>\n",
       "      <td>3</td>\n",
       "      <td>2</td>\n",
       "      <td>abnormal</td>\n",
       "      <td>present</td>\n",
       "      <td>present</td>\n",
       "      <td>157</td>\n",
       "      <td>90</td>\n",
       "      <td>...</td>\n",
       "      <td>16</td>\n",
       "      <td>11000</td>\n",
       "      <td>2.6</td>\n",
       "      <td>yes</td>\n",
       "      <td>yes</td>\n",
       "      <td>yes</td>\n",
       "      <td>poor</td>\n",
       "      <td>yes</td>\n",
       "      <td>no</td>\n",
       "      <td>ckd</td>\n",
       "    </tr>\n",
       "  </tbody>\n",
       "</table>\n",
       "<p>5 rows × 24 columns</p>\n",
       "</div>"
      ],
      "text/plain": [
       "   age  bp     sg  al  su        pc      pcc          ba  bgr   bu  ...   pcv  \\\n",
       "0   48  70  1.005   4   0  abnormal  present  notpresent  117   56  ...    32   \n",
       "1   53  90  1.020   2   0  abnormal  present  notpresent   70  107  ...    29   \n",
       "2   63  70  1.010   3   0  abnormal  present  notpresent  380   60  ...    32   \n",
       "3   68  70  1.015   3   1    normal  present  notpresent  208   72  ...    28   \n",
       "4   68  80  1.010   3   2  abnormal  present     present  157   90  ...    16   \n",
       "\n",
       "    wbcc  rbcc  htn   dm  cad  appet   pe  ane class  \n",
       "0   6700   3.9  yes   no   no   poor  yes  yes   ckd  \n",
       "1  12100   3.7  yes  yes   no   poor   no  yes   ckd  \n",
       "2   4500   3.8  yes  yes   no   poor  yes   no   ckd  \n",
       "3  12200   3.4  yes  yes  yes   poor  yes   no   ckd  \n",
       "4  11000   2.6  yes  yes  yes   poor  yes   no   ckd  \n",
       "\n",
       "[5 rows x 24 columns]"
      ]
     },
     "execution_count": 14,
     "metadata": {},
     "output_type": "execute_result"
    }
   ],
   "source": [
    "import pandas as pd\n",
    "\n",
    "data = pd.read_csv('data/kidney.csv')\n",
    "\n",
    "data.head(5)"
   ]
  },
  {
   "cell_type": "markdown",
   "metadata": {
    "kernel": "Python3"
   },
   "source": [
    "## Résultat principal <a name=\"résultat\"></a>"
   ]
  },
  {
   "cell_type": "markdown",
   "metadata": {
    "kernel": "Python3"
   },
   "source": [
    "### Binarisation <a name=\"binarisation\"></a>\n",
    "\n",
    "Toutes les caractéristiques qui ne peuvent prendre que deux valeurs possibless sont transformés en une colonne à valeurs égales à 1 ou 0. Par exemple la colonne \"ane\" qui dis si le patient à une anémie ou non peut prendre la valeur \"yes\" ou \"no\". Ainsi on fait correspondre \"no\" à 0 et \"yes\" à 1.\n",
    "\n",
    "Certaines caractéristiques qui prennent \"x\" valeurs discètes sont transformés en x colonnes. Une colonne est associé à une valeur et ne prends des 1 que pour les patients qui ont cette valeur là de la caractéristique.\n",
    "\n",
    "Pour binariser les autres caractéristiques (celles qui prennent des valeurs réelles), nous traçons l'histogramme de cette caractéristique et nous nous basons sur ce graphique pour le choix des intervalles de valeurs que nous allons considérer et pour lesquels nous allons créer une nouvelle colonne binanire.\n",
    "\n",
    "\n",
    "#### Exemple\n",
    "Dans les histogrammes suivants, les lignes rouges verticales indiquent la séparation que nous avons choisi de prendre en compte dans la binarisation."
   ]
  },
  {
   "cell_type": "code",
   "execution_count": 28,
   "metadata": {
    "kernel": "Python3",
    "scrolled": false
   },
   "outputs": [
    {
     "data": {
      "image/png": "[encoded data removed]",
      "text/plain": [
       "<Figure size 1296x288 with 2 Axes>"
      ]
     },
     "metadata": {
      "needs_background": "light"
     },
     "output_type": "display_data"
    },
    {
     "data": {
      "image/png": "[encoded data removed]",
      "text/plain": [
       "<Figure size 1296x288 with 2 Axes>"
      ]
     },
     "metadata": {
      "needs_background": "light"
     },
     "output_type": "display_data"
    },
    {
     "data": {
      "image/png": "[encoded data removed]",
      "text/plain": [
       "<Figure size 648x288 with 1 Axes>"
      ]
     },
     "metadata": {
      "needs_background": "light"
     },
     "output_type": "display_data"
    }
   ],
   "source": [
    "plt.figure(figsize=(18,4))\n",
    "\n",
    "plt.subplot(121)\n",
    "plt.hist(data['sc'], bins=30)\n",
    "plt.axvline(1.25,0,70, color='r', alpha=0.7)\n",
    "plt.title('serum creatinine (sc)')\n",
    "\n",
    "plt.subplot(122)\n",
    "plt.hist(data['pcv'], bins=30)\n",
    "plt.axvline(40,0,20, color='r', alpha=0.7)\n",
    "plt.title('pa0cked cell volume (pcv)')\n",
    "plt.show()\n",
    "\n",
    "plt.figure(figsize=(18,4))\n",
    "\n",
    "plt.subplot(121)\n",
    "plt.hist(data['hemo'], bins=20)\n",
    "plt.axvline(13,0,16, color='r', alpha=0.7)\n",
    "plt.title('hemoglobin (hemo)')\n",
    "\n",
    "plt.subplot(122)\n",
    "plt.hist(data['sg'], bins=10,align='right')\n",
    "plt.axvline(1.02,0,60, color='r', alpha=0.7)\n",
    "plt.title('specific gravity (sg)')\n",
    "plt.show()\n",
    "\n",
    "plt.figure(figsize=(9,4))\n",
    "plt.hist(data['rbcc'], bins=30,align='right')\n",
    "plt.axvline(4.5,0,20, color='r', alpha=0.7)\n",
    "plt.title('red blood cells (rbcc)')\n",
    "plt.show()"
   ]
  },
  {
   "cell_type": "markdown",
   "metadata": {
    "kernel": "Python3"
   },
   "source": [
    "#### En pratique\n",
    " \n",
    "Si un ensemble de valeurs ont des fréquences similaires alors on les mets dans une même catégorie.\n",
    "\n",
    "Nous séparons la colonne sc en deux colonnes sc0-1.25 et sc1.25-Inf. Si un patient a une valeur de serum creatinine compris entre 0 et 1.25 il aura 1 dans la colonne sc0-1.25 et 0 dans la colonne sc1.25-Inf (et inversement)."
   ]
  },
  {
   "cell_type": "markdown",
   "metadata": {
    "kernel": "Python3"
   },
   "source": [
    "### Choix des caractéristiques <a name=\"choix\"></a>\n",
    "\n",
    "Au début nous avons regardé les correlations qui existent entre les différentes variables. Celles qui sont liés à la maladie étaient principalement sg hemo pcv rbcc htn dm al et sc.  \n",
    "\n",
    "Nous avons utilisé un modèle de Random Forest et recensé les caractéristiques les plus influentes. Dans la figure suivante nous avons trouvés presque les même caractéristiques en tête.\n",
    "\n",
    "Puis nous avons lancé le classifieur sur 10 combinaisons différentres train/test générés aléatoirement. Dans les règles obtenus après classement, htn et al ne sont jamais utilisés. Donc nous n'avons gardé que les 6 restantes. Nous les avons binarisés comme décrit sur les histogrammes précédents. "
   ]
  },
  {
   "cell_type": "markdown",
   "metadata": {
    "kernel": "Python3"
   },
   "source": [
    "### Complexité <a name=\"complexité\"></a>"
   ]
  },
  {
   "cell_type": "markdown",
   "metadata": {
    "kernel": "Python3"
   },
   "source": [
    "### Etude des règles obtenues <a name=\"règles\"></a>"
   ]
  },
  {
   "cell_type": "markdown",
   "metadata": {
    "kernel": "Python3"
   },
   "source": [
    "### Performances <a name=\"score\"></a>"
   ]
  },
  {
   "cell_type": "code",
   "execution_count": 16,
   "metadata": {
    "kernel": "Julia 1.3.1"
   },
   "outputs": [
    {
     "name": "stdout",
     "output_type": "stream",
     "text": [
      "=== Creating the features\n",
      "=== ... 126 individuals in the train set\n",
      "=== ... 63 individuals in the test set\n",
      "=== ... 12 features\n",
      "=== Generating the rules\n",
      "-- Classe 0\n"
     ]
    },
    {
     "ename": "LoadError",
     "evalue": "MethodError: no method matching Model(::Type{CPLEX.Optimizer})\nClosest candidates are:\n  Model(::Any, !Matched::Symbol, !Matched::Any, !Matched::Any, !Matched::Any, !Matched::Any, !Matched::Any, !Matched::Int64, !Matched::Array{String,1}, !Matched::Array{String,1}, !Matched::Array{Float64,1}, !Matched::Array{Float64,1}, !Matched::Array{Symbol,1}, !Matched::Array{T,1} where T, !Matched::Array{Tuple{Symbol,Any},1}, !Matched::Any, !Matched::Any, !Matched::Array{Float64,1}, !Matched::Array{Float64,1}, !Matched::Array{Float64,1}, !Matched::Array{Float64,1}, !Matched::Array{Array{Int64,1},1}, !Matched::Array{Array{Tuple{Int64,Int64},1},1}, !Matched::Any, !Matched::MathProgBase.SolverInterface.AbstractMathProgSolver, !Matched::Bool, !Matched::Any, !Matched::Any, !Matched::Any, !Matched::Array{T,1} where T, !Matched::JuMP.IndexedVector{Float64}, !Matched::Any, !Matched::Bool, !Matched::Dict{Symbol,Any}, !Matched::IdDict, !Matched::Int64, !Matched::Int64, !Matched::Dict{Symbol,Any}) at C:\\Users\\walid\\packages\\JuMP\\I7whV\\src\\JuMP.jl:87\n  Model(::Any, !Matched::Any, !Matched::Any, !Matched::Any, !Matched::Any, !Matched::Any, !Matched::Any, !Matched::Any, !Matched::Any, !Matched::Any, !Matched::Any, !Matched::Any, !Matched::Any, !Matched::Any, !Matched::Any, !Matched::Any, !Matched::Any, !Matched::Any, !Matched::Any, !Matched::Any, !Matched::Any, !Matched::Any, !Matched::Any, !Matched::Any, !Matched::Any, !Matched::Any, !Matched::Any, !Matched::Any, !Matched::Any, !Matched::Any, !Matched::Any, !Matched::Any, !Matched::Any, !Matched::Any, !Matched::Any, !Matched::Any, !Matched::Any, !Matched::Any) at C:\\Users\\walid\\packages\\JuMP\\I7whV\\src\\JuMP.jl:87\n  Model(; solver, simplify_nonlinear_expressions) at C:\\Users\\walid\\packages\\JuMP\\I7whV\\src\\JuMP.jl:168",
     "output_type": "error",
     "traceback": [
      "MethodError: no method matching Model(::Type{CPLEX.Optimizer})\nClosest candidates are:\n  Model(::Any, !Matched::Symbol, !Matched::Any, !Matched::Any, !Matched::Any, !Matched::Any, !Matched::Any, !Matched::Int64, !Matched::Array{String,1}, !Matched::Array{String,1}, !Matched::Array{Float64,1}, !Matched::Array{Float64,1}, !Matched::Array{Symbol,1}, !Matched::Array{T,1} where T, !Matched::Array{Tuple{Symbol,Any},1}, !Matched::Any, !Matched::Any, !Matched::Array{Float64,1}, !Matched::Array{Float64,1}, !Matched::Array{Float64,1}, !Matched::Array{Float64,1}, !Matched::Array{Array{Int64,1},1}, !Matched::Array{Array{Tuple{Int64,Int64},1},1}, !Matched::Any, !Matched::MathProgBase.SolverInterface.AbstractMathProgSolver, !Matched::Bool, !Matched::Any, !Matched::Any, !Matched::Any, !Matched::Array{T,1} where T, !Matched::JuMP.IndexedVector{Float64}, !Matched::Any, !Matched::Bool, !Matched::Dict{Symbol,Any}, !Matched::IdDict, !Matched::Int64, !Matched::Int64, !Matched::Dict{Symbol,Any}) at C:\\Users\\walid\\packages\\JuMP\\I7whV\\src\\JuMP.jl:87\n  Model(::Any, !Matched::Any, !Matched::Any, !Matched::Any, !Matched::Any, !Matched::Any, !Matched::Any, !Matched::Any, !Matched::Any, !Matched::Any, !Matched::Any, !Matched::Any, !Matched::Any, !Matched::Any, !Matched::Any, !Matched::Any, !Matched::Any, !Matched::Any, !Matched::Any, !Matched::Any, !Matched::Any, !Matched::Any, !Matched::Any, !Matched::Any, !Matched::Any, !Matched::Any, !Matched::Any, !Matched::Any, !Matched::Any, !Matched::Any, !Matched::Any, !Matched::Any, !Matched::Any, !Matched::Any, !Matched::Any, !Matched::Any, !Matched::Any, !Matched::Any) at C:\\Users\\walid\\packages\\JuMP\\I7whV\\src\\JuMP.jl:87\n  Model(; solver, simplify_nonlinear_expressions) at C:\\Users\\walid\\packages\\JuMP\\I7whV\\src\\JuMP.jl:168",
      "",
      "Stacktrace:",
      " [1] createRules(::String, ::String, ::DataFrame, ::Int64, ::Bool) at C:\\Users\\walid\\Desktop\\MPRO\\RODM\\ClassificationAssociative\\src\\functions.jl:306",
      " [2] top-level scope at C:\\Users\\walid\\Desktop\\MPRO\\RODM\\ClassificationAssociative\\src\\main.jl:30",
      " [3] include at .\\boot.jl:328 [inlined]",
      " [4] include_relative(::Module, ::String) at .\\loading.jl:1105",
      " [5] include(::Module, ::String) at .\\Base.jl:31",
      " [6] include(::String) at .\\client.jl:424",
      " [7] top-level scope at In[2]:1"
     ]
    }
   ],
   "source": [
    "include(\"src/main.jl\")"
   ]
  },
  {
   "cell_type": "code",
   "execution_count": null,
   "metadata": {
    "kernel": "Julia 1.3.1"
   },
   "outputs": [],
   "source": []
  },
  {
   "cell_type": "markdown",
   "metadata": {
    "kernel": "Python3"
   },
   "source": [
    "## Influence des caractéristiques <a name=\"binarisation_influence\"></a>\n",
    "\n",
    "Nous allons comparer l'ajout et la suppression d'une caractéristique sur les performances du classifieur."
   ]
  },
  {
   "cell_type": "markdown",
   "metadata": {
    "kernel": "Julia 1.3.1"
   },
   "source": [
    "## Optimisation bi-objectif <a name=\"biobjectif\"></a>\n",
    "\n",
    "Nous allons résoudre le problème de génération de règle par l'optimisation bi-objectif où nous minimisons la couverture de la règle et maximisons le nombre d'éléments d'une certaine classe pour lesquels la règle s'applique. Nous récupérons donc pour chaque classe un ensemble de règles non dominées.\n",
    "\n",
    "### Observations\n",
    "\n",
    "Cette méthode est beaucoup plus rapide même si nous binarisons plus de caractéristiques. Et ceci donne peu de règles à appliquer."
   ]
  },
  {
   "cell_type": "markdown",
   "metadata": {
    "kernel": "Julia 1.3.1"
   },
   "source": [
    "## Comparaison à des méthodes de machine learning usuelles <a name=\"compML\"></a>\n",
    "\n",
    "Nous avons testés de répondre à ce problème de classification par des méthodes usuelles: Arbre CART, random forest, linearisation, Adaptive Boosting.\n",
    "Nous avons comparés ces différentes méthodes avec le classifieur ORC et ceci sur 10 combinaisons différentes train/test."
   ]
  },
  {
   "cell_type": "markdown",
   "metadata": {
    "kernel": "Julia 1.3.1"
   },
   "source": [
    "## Méthode ORC appliquée à du multi-classes <a name=\"multiclasses\"></a>\n",
    "\n",
    "Le classifieur ORC s'applique si on s'intéresse à faire du multi-classes. Ceci vient du fait que pour chaque classe nous pouvons générer des règles qui s'appliquent à cette classe là. \n",
    "\n",
    "Nous avons testé ceci sur la prédiction de la valeur de sg (specific gravity) qui contient 5 valeurs différentes possibles."
   ]
  },
  {
   "cell_type": "code",
   "execution_count": null,
   "metadata": {
    "kernel": "Julia 1.3.1"
   },
   "outputs": [],
   "source": []
  }
 ],
 "metadata": {
  "celltoolbar": "Format de la Cellule Texte Brut",
  "kernelspec": {
   "display_name": "SoS",
   "language": "sos",
   "name": "sos"
  },
  "language_info": {
   "codemirror_mode": "sos",
   "file_extension": ".sos",
   "mimetype": "text/x-sos",
   "name": "sos",
   "nbconvert_exporter": "sos_notebook.converter.SoS_Exporter",
   "pygments_lexer": "sos"
  },
  "sos": {
   "kernels": [
    [
     "Julia 1.3.1",
     "julia-1.3",
     "julia",
     "",
     ""
    ],
    [
     "Python3",
     "python3",
     "Python3",
     "#FFD91A",
     {
      "name": "ipython",
      "version": 3
     }
    ]
   ],
   "panel": {
    "displayed": false,
    "height": 0
   },
   "version": "0.21.7"
  }
 },
 "nbformat": 4,
 "nbformat_minor": 2
}
